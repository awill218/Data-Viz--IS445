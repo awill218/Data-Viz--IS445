{
 "cells": [
  {
   "cell_type": "code",
   "execution_count": 2,
   "id": "18889e85-31ad-4888-b72a-f270360f6a5b",
   "metadata": {},
   "outputs": [],
   "source": [
    "import bqplot\n",
    "import numpy as np\n",
    "import ipywidgets\n",
    "import seaborn as sns"
   ]
  },
  {
   "cell_type": "code",
   "execution_count": 3,
   "id": "074c95e5-4251-4d20-b5f7-db52fdcffae2",
   "metadata": {},
   "outputs": [],
   "source": [
    "data = np.random.random( (10, 10) )"
   ]
  },
  {
   "cell_type": "code",
   "execution_count": 4,
   "id": "ddac3e6f-a1c3-41e2-87a4-bd183f8ec526",
   "metadata": {},
   "outputs": [
    {
     "data": {
      "text/plain": [
       "array([[0.26943062, 0.7733353 , 0.62460374, 0.69650028, 0.20462   ,\n",
       "        0.80413501, 0.35544347, 0.91873332, 0.69148699, 0.46900428],\n",
       "       [0.94329204, 0.53211996, 0.4529728 , 0.6313954 , 0.49192568,\n",
       "        0.31104608, 0.61671238, 0.9126622 , 0.81114171, 0.97494484],\n",
       "       [0.68604267, 0.40728279, 0.01220516, 0.00524622, 0.41941281,\n",
       "        0.92774063, 0.43497274, 0.83435893, 0.40822775, 0.52030701],\n",
       "       [0.64229463, 0.61976031, 0.43652184, 0.34830941, 0.97206055,\n",
       "        0.2084505 , 0.83011781, 0.11778153, 0.31897763, 0.61383909],\n",
       "       [0.1910031 , 0.46483724, 0.20854357, 0.0696114 , 0.13550837,\n",
       "        0.98782427, 0.32875451, 0.58554792, 0.23285805, 0.63303364],\n",
       "       [0.82762848, 0.4517111 , 0.62798794, 0.06269348, 0.88523892,\n",
       "        0.56317888, 0.20102839, 0.59819903, 0.71843493, 0.68029602],\n",
       "       [0.92517802, 0.97355092, 0.69881806, 0.09774607, 0.32013872,\n",
       "        0.39631622, 0.77004869, 0.99906251, 0.87781837, 0.29342292],\n",
       "       [0.27829811, 0.14961312, 0.04875159, 0.56280429, 0.47193783,\n",
       "        0.95600124, 0.56845461, 0.43194856, 0.05844455, 0.7612325 ],\n",
       "       [0.51179935, 0.03299602, 0.07283037, 0.58639201, 0.71114765,\n",
       "        0.92596115, 0.87013647, 0.17475672, 0.3666126 , 0.48458426],\n",
       "       [0.27675995, 0.51496569, 0.44221542, 0.50648168, 0.22724628,\n",
       "        0.74563581, 0.30148143, 0.10671713, 0.9023032 , 0.39415401]])"
      ]
     },
     "execution_count": 4,
     "metadata": {},
     "output_type": "execute_result"
    }
   ],
   "source": [
    "data"
   ]
  },
  {
   "cell_type": "code",
   "execution_count": 5,
   "id": "d68805c1-334f-4960-9759-c97f77bbbad3",
   "metadata": {},
   "outputs": [
    {
     "data": {
      "text/plain": [
       "(10, 10)"
      ]
     },
     "execution_count": 5,
     "metadata": {},
     "output_type": "execute_result"
    }
   ],
   "source": [
    "data.shape"
   ]
  },
  {
   "cell_type": "code",
   "execution_count": null,
   "id": "a7eed0c8",
   "metadata": {},
   "outputs": [],
   "source": []
  },
  {
   "cell_type": "code",
   "execution_count": 6,
   "id": "ffd975c5-98ce-43c1-ab90-8428fb1bba47",
   "metadata": {},
   "outputs": [],
   "source": [
    "heat_map = bqplot.GridHeatMap(color = data, scales = {'color':bqplot.ColorScale()})"
   ]
  },
  {
   "cell_type": "code",
   "execution_count": 7,
   "id": "d629bed7-67db-491f-9601-3b3754ca2dd9",
   "metadata": {},
   "outputs": [
    {
     "data": {
      "application/vnd.jupyter.widget-view+json": {
       "model_id": "2a652f6a8b01486e8b690a83273430cd",
       "version_major": 2,
       "version_minor": 0
      },
      "text/plain": [
       "Figure(fig_margin={'top': 60, 'bottom': 60, 'left': 60, 'right': 60}, marks=[GridHeatMap(color=array([[0.26943…"
      ]
     },
     "metadata": {},
     "output_type": "display_data"
    }
   ],
   "source": [
    "fig = bqplot.Figure(marks = [heat_map])\n",
    "fig"
   ]
  },
  {
   "cell_type": "code",
   "execution_count": null,
   "id": "167cabc9-42aa-4029-ac70-b56940cd4f0f",
   "metadata": {},
   "outputs": [],
   "source": []
  }
 ],
 "metadata": {
  "kernelspec": {
   "display_name": "Python 3",
   "language": "python",
   "name": "python3"
  },
  "language_info": {
   "codemirror_mode": {
    "name": "ipython",
    "version": 3
   },
   "file_extension": ".py",
   "mimetype": "text/x-python",
   "name": "python",
   "nbconvert_exporter": "python",
   "pygments_lexer": "ipython3",
   "version": "3.8.8"
  }
 },
 "nbformat": 4,
 "nbformat_minor": 5
}
